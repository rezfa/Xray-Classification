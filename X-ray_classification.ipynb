{
 "cells": [
  {
   "cell_type": "code",
   "execution_count": 5,
   "metadata": {},
   "outputs": [],
   "source": [
    "import tensorflow as tf\n",
    "from tensorflow import keras\n",
    "from tensorflow.keras.models import Sequential\n",
    "from tensorflow.keras.preprocessing.image import ImageDataGenerator\n",
    "\n",
    "from sklearn.metrics import classification_report\n",
    "from sklearn.metrics import confusion_matrix\n",
    "\n",
    "from tensorflow.keras.callbacks import EarlyStopping\n",
    "from tensorflow.keras import layers\n",
    "\n",
    "import matplotlib.pyplot as plt\n",
    "import numpy as np"
   ]
  },
  {
   "cell_type": "code",
   "execution_count": 6,
   "metadata": {},
   "outputs": [
    {
     "name": "stdout",
     "output_type": "stream",
     "text": [
      "Found 251 images belonging to 3 classes.\n",
      "\n",
      "Loading validation data...\n",
      "\n",
      "Found 66 images belonging to 3 classes.\n",
      "\n",
      "Building model...\n",
      "\n"
     ]
    }
   ],
   "source": [
    "Directory_train = '/Users/rez/Documents/Engineering/Coding/VsCode/classification-challenge/classification-challenge-starter/Covid19-dataset/train'\n",
    "Directory_test = '/Users/rez/Documents/Engineering/Coding/VsCode/classification-challenge/classification-challenge-solution/Covid19-dataset/test'\n",
    "ClassMode = 'categorical'\n",
    "ColorMode = 'grayscale'\n",
    "TargetSize = (256, 256)\n",
    "BatchSize = 8\n",
    "\n",
    "IDG = ImageDataGenerator(\n",
    "    rescale= 1./255,\n",
    "    zoom_range =0.1,\n",
    "    rotation_range = 25,\n",
    "    width_shift_range = 0.05,\n",
    "    height_shift_range = 0.05\n",
    ")\n",
    "\n",
    "Validation_DG = ImageDataGenerator()\n",
    "\n",
    "training_iterator = IDG.flow_from_directory(Directory_train, class_mode= 'categorical', color_mode='grayscale', target_size=(256, 256), batch_size=BatchSize)\n",
    "\n",
    "training_iterator.next()\n",
    "print(\"\\nLoading validation data...\\n\")\n",
    "\n",
    "validation_iterator = Validation_DG.flow_from_directory(Directory_test, class_mode= ClassMode, color_mode=ColorMode, target_size=TargetSize, batch_size=BatchSize)\n",
    "print(\"\\nBuilding model...\\n\")\n"
   ]
  },
  {
   "cell_type": "code",
   "execution_count": 7,
   "metadata": {},
   "outputs": [
    {
     "name": "stderr",
     "output_type": "stream",
     "text": [
      "WARNING:absl:At this time, the v2.11+ optimizer `tf.keras.optimizers.Adam` runs slowly on M1/M2 Macs, please use the legacy Keras optimizer instead, located at `tf.keras.optimizers.legacy.Adam`.\n",
      "WARNING:absl:There is a known slowdown when using v2.11+ Keras optimizers on M1/M2 Macs. Falling back to the legacy Keras optimizer, i.e., `tf.keras.optimizers.legacy.Adam`.\n"
     ]
    },
    {
     "name": "stdout",
     "output_type": "stream",
     "text": [
      "Model: \"sequential_1\"\n",
      "_________________________________________________________________\n",
      " Layer (type)                Output Shape              Param #   \n",
      "=================================================================\n",
      " conv2d_2 (Conv2D)           (None, 84, 84, 5)         130       \n",
      "                                                                 \n",
      " max_pooling2d_2 (MaxPoolin  (None, 42, 42, 5)         0         \n",
      " g2D)                                                            \n",
      "                                                                 \n",
      " dropout_2 (Dropout)         (None, 42, 42, 5)         0         \n",
      "                                                                 \n",
      " conv2d_3 (Conv2D)           (None, 40, 40, 3)         138       \n",
      "                                                                 \n",
      " max_pooling2d_3 (MaxPoolin  (None, 20, 20, 3)         0         \n",
      " g2D)                                                            \n",
      "                                                                 \n",
      " dropout_3 (Dropout)         (None, 20, 20, 3)         0         \n",
      "                                                                 \n",
      " flatten_1 (Flatten)         (None, 1200)              0         \n",
      "                                                                 \n",
      " dense_1 (Dense)             (None, 3)                 3603      \n",
      "                                                                 \n",
      "=================================================================\n",
      "Total params: 3871 (15.12 KB)\n",
      "Trainable params: 3871 (15.12 KB)\n",
      "Non-trainable params: 0 (0.00 Byte)\n",
      "_________________________________________________________________\n",
      "None\n",
      "Epoch 1/5\n"
     ]
    },
    {
     "name": "stderr",
     "output_type": "stream",
     "text": [
      "2023-05-28 18:17:26.012980: I tensorflow/core/common_runtime/executor.cc:1210] [/device:CPU:0] (DEBUG INFO) Executor start aborting (this does not indicate an error and you can ignore this message): INVALID_ARGUMENT: You must feed a value for placeholder tensor 'Placeholder/_0' with dtype int32\n",
      "\t [[{{node Placeholder/_0}}]]\n"
     ]
    },
    {
     "name": "stdout",
     "output_type": "stream",
     "text": [
      "32/31 [==============================] - ETA: 0s - loss: 1.0781 - categorical_accuracy: 0.4382 - auc_1: 0.5873"
     ]
    },
    {
     "name": "stderr",
     "output_type": "stream",
     "text": [
      "2023-05-28 18:17:28.284456: I tensorflow/core/common_runtime/executor.cc:1210] [/device:CPU:0] (DEBUG INFO) Executor start aborting (this does not indicate an error and you can ignore this message): INVALID_ARGUMENT: You must feed a value for placeholder tensor 'Placeholder/_0' with dtype int32\n",
      "\t [[{{node Placeholder/_0}}]]\n"
     ]
    },
    {
     "name": "stdout",
     "output_type": "stream",
     "text": [
      "WARNING:tensorflow:Early stopping conditioned on metric `val_auc` which is not available. Available metrics are: loss,categorical_accuracy,auc_1,val_loss,val_categorical_accuracy,val_auc_1\n"
     ]
    },
    {
     "name": "stderr",
     "output_type": "stream",
     "text": [
      "WARNING:tensorflow:Early stopping conditioned on metric `val_auc` which is not available. Available metrics are: loss,categorical_accuracy,auc_1,val_loss,val_categorical_accuracy,val_auc_1\n"
     ]
    },
    {
     "name": "stdout",
     "output_type": "stream",
     "text": [
      "31/31 [==============================] - 3s 75ms/step - loss: 1.0781 - categorical_accuracy: 0.4382 - auc_1: 0.5873 - val_loss: 32.4073 - val_categorical_accuracy: 0.4697 - val_auc_1: 0.6094\n",
      "Epoch 2/5\n",
      "32/31 [==============================] - ETA: 0s - loss: 0.9386 - categorical_accuracy: 0.5857 - auc_1: 0.7535WARNING:tensorflow:Early stopping conditioned on metric `val_auc` which is not available. Available metrics are: loss,categorical_accuracy,auc_1,val_loss,val_categorical_accuracy,val_auc_1\n"
     ]
    },
    {
     "name": "stderr",
     "output_type": "stream",
     "text": [
      "WARNING:tensorflow:Early stopping conditioned on metric `val_auc` which is not available. Available metrics are: loss,categorical_accuracy,auc_1,val_loss,val_categorical_accuracy,val_auc_1\n"
     ]
    },
    {
     "name": "stdout",
     "output_type": "stream",
     "text": [
      "31/31 [==============================] - 2s 66ms/step - loss: 0.9386 - categorical_accuracy: 0.5857 - auc_1: 0.7535 - val_loss: 46.0075 - val_categorical_accuracy: 0.6061 - val_auc_1: 0.7045\n",
      "Epoch 3/5\n",
      "32/31 [==============================] - ETA: 0s - loss: 0.8247 - categorical_accuracy: 0.6096 - auc_1: 0.8036WARNING:tensorflow:Early stopping conditioned on metric `val_auc` which is not available. Available metrics are: loss,categorical_accuracy,auc_1,val_loss,val_categorical_accuracy,val_auc_1\n"
     ]
    },
    {
     "name": "stderr",
     "output_type": "stream",
     "text": [
      "WARNING:tensorflow:Early stopping conditioned on metric `val_auc` which is not available. Available metrics are: loss,categorical_accuracy,auc_1,val_loss,val_categorical_accuracy,val_auc_1\n"
     ]
    },
    {
     "name": "stdout",
     "output_type": "stream",
     "text": [
      "31/31 [==============================] - 2s 65ms/step - loss: 0.8247 - categorical_accuracy: 0.6096 - auc_1: 0.8036 - val_loss: 54.0282 - val_categorical_accuracy: 0.5606 - val_auc_1: 0.6705\n",
      "Epoch 4/5\n",
      "32/31 [==============================] - ETA: 0s - loss: 0.6278 - categorical_accuracy: 0.7649 - auc_1: 0.9094WARNING:tensorflow:Early stopping conditioned on metric `val_auc` which is not available. Available metrics are: loss,categorical_accuracy,auc_1,val_loss,val_categorical_accuracy,val_auc_1\n"
     ]
    },
    {
     "name": "stderr",
     "output_type": "stream",
     "text": [
      "WARNING:tensorflow:Early stopping conditioned on metric `val_auc` which is not available. Available metrics are: loss,categorical_accuracy,auc_1,val_loss,val_categorical_accuracy,val_auc_1\n"
     ]
    },
    {
     "name": "stdout",
     "output_type": "stream",
     "text": [
      "31/31 [==============================] - 2s 66ms/step - loss: 0.6278 - categorical_accuracy: 0.7649 - auc_1: 0.9094 - val_loss: 46.2804 - val_categorical_accuracy: 0.7879 - val_auc_1: 0.8409\n",
      "Epoch 5/5\n",
      "32/31 [==============================] - ETA: 0s - loss: 0.5068 - categorical_accuracy: 0.8088 - auc_1: 0.9307WARNING:tensorflow:Early stopping conditioned on metric `val_auc` which is not available. Available metrics are: loss,categorical_accuracy,auc_1,val_loss,val_categorical_accuracy,val_auc_1\n"
     ]
    },
    {
     "name": "stderr",
     "output_type": "stream",
     "text": [
      "WARNING:tensorflow:Early stopping conditioned on metric `val_auc` which is not available. Available metrics are: loss,categorical_accuracy,auc_1,val_loss,val_categorical_accuracy,val_auc_1\n"
     ]
    },
    {
     "name": "stdout",
     "output_type": "stream",
     "text": [
      "31/31 [==============================] - 2s 66ms/step - loss: 0.5068 - categorical_accuracy: 0.8088 - auc_1: 0.9307 - val_loss: 49.9855 - val_categorical_accuracy: 0.7879 - val_auc_1: 0.8409\n"
     ]
    }
   ],
   "source": [
    "def design_model(training_iterator):\n",
    "\n",
    "    model = Sequential()\n",
    "\n",
    "    model.add(tf.keras.Input(shape=(256,256,1)))\n",
    "\n",
    "    model.add(layers.Conv2D(5, 5, strides=3, activation=\"relu\")) \n",
    "    model.add(layers.MaxPooling2D(pool_size=(2, 2), strides=(2,2)))\n",
    "    model.add(layers.Dropout(0.1))\n",
    "\n",
    "    model.add(layers.Conv2D(3, 3, strides=1, activation=\"relu\")) \n",
    "    model.add(layers.MaxPooling2D(pool_size=(2, 2), strides=(2,2)))\n",
    "    model.add(layers.Dropout(0.2))\n",
    "\n",
    "    model.add(layers.Flatten())\n",
    "\n",
    "    model.add(tf.keras.layers.Dense(3, activation='softmax'))\n",
    "\n",
    "    model.compile(optimizer=tf.keras.optimizers.Adam(learning_rate=.001), loss=tf.keras.losses.CategoricalCrossentropy(), metrics=[tf.keras.metrics.CategoricalAccuracy(),tf.keras.metrics.AUC()],)\n",
    "\n",
    "    print(model.summary())\n",
    "\n",
    "    return model\n",
    "\n",
    "model = design_model(training_iterator)\n",
    "\n",
    "es = EarlyStopping(monitor='val_auc', mode='min', verbose=1, patience=20)\n",
    "\n",
    "history = model.fit(\n",
    "\n",
    "    training_iterator,\n",
    "    steps_per_epoch=training_iterator.samples/BatchSize, epochs=5,\n",
    "    validation_data=validation_iterator,\n",
    "    validation_steps=validation_iterator.samples/BatchSize,\n",
    "    callbacks=[es]\n",
    ")"
   ]
  },
  {
   "cell_type": "code",
   "execution_count": 9,
   "metadata": {},
   "outputs": [
    {
     "data": {
      "image/png": "[encoded data removed]",
      "text/plain": [
       "<Figure size 640x480 with 2 Axes>"
      ]
     },
     "metadata": {},
     "output_type": "display_data"
    },
    {
     "name": "stdout",
     "output_type": "stream",
     "text": [
      "1/9 [==>...........................] - ETA: 1s"
     ]
    },
    {
     "name": "stderr",
     "output_type": "stream",
     "text": [
      "2023-05-28 18:18:10.105181: I tensorflow/core/common_runtime/executor.cc:1210] [/device:CPU:0] (DEBUG INFO) Executor start aborting (this does not indicate an error and you can ignore this message): INVALID_ARGUMENT: You must feed a value for placeholder tensor 'Placeholder/_0' with dtype int32\n",
      "\t [[{{node Placeholder/_0}}]]\n"
     ]
    },
    {
     "name": "stdout",
     "output_type": "stream",
     "text": [
      "9/9 [==============================] - 0s 32ms/step\n",
      "              precision    recall  f1-score   support\n",
      "\n",
      "       Covid       0.41      0.42      0.42        26\n",
      "      Normal       0.25      0.20      0.22        20\n",
      "   Pneumonia       0.26      0.30      0.28        20\n",
      "\n",
      "    accuracy                           0.32        66\n",
      "   macro avg       0.31      0.31      0.31        66\n",
      "weighted avg       0.32      0.32      0.32        66\n",
      "\n",
      "[[11  7  8]\n",
      " [ 7  4  9]\n",
      " [ 9  5  6]]\n"
     ]
    }
   ],
   "source": [
    "#plotting the model's accuracy\n",
    "fig = plt.figure()\n",
    "ax1 = fig.add_subplot(2,1,1)\n",
    "ax1.plot(history.history['categorical_accuracy'])\n",
    "ax1.plot(history.history['val_categorical_accuracy'])\n",
    "ax1.set_title('Model Accuracy')\n",
    "ax1.set_xlabel('epochs')\n",
    "ax1.set_ylabel('accuracy')\n",
    "ax1.legend(['train', 'validation'], loc='upper left')\n",
    " \n",
    "# plotting auc and validation auc over epochs\n",
    "ax2 = fig.add_subplot(2, 1, 2)\n",
    "ax2.plot(history.history['auc_1'])\n",
    "ax2.plot(history.history['val_auc_1'])\n",
    "ax2.set_title('model auc')\n",
    "ax2.set_xlabel('epoch')\n",
    "ax2.set_ylabel('auc')\n",
    "ax2.legend(['train', 'validation'], loc='upper left')\n",
    " \n",
    "# used to keep plots from overlapping\n",
    "fig.tight_layout()\n",
    "plt.show()\n",
    "\n",
    "# %%\n",
    "test_steps_per_epoch = np.math.ceil(validation_iterator.samples / validation_iterator.batch_size)\n",
    "predictions = model.predict(validation_iterator, steps=test_steps_per_epoch)\n",
    "test_steps_per_epoch = np.math.ceil(validation_iterator.samples / validation_iterator.batch_size)\n",
    "predicted_classes = np.argmax(predictions, axis=1)\n",
    "true_classes = validation_iterator.classes\n",
    "class_labels = list(validation_iterator.class_indices.keys())\n",
    "report = classification_report(true_classes, predicted_classes, target_names=class_labels)\n",
    "print(report)   \n",
    " \n",
    "cm=confusion_matrix(true_classes,predicted_classes)\n",
    "print(cm)\n"
   ]
  }
 ],
 "metadata": {
  "kernelspec": {
   "display_name": ".venv",
   "language": "python",
   "name": "python3"
  },
  "language_info": {
   "codemirror_mode": {
    "name": "ipython",
    "version": 3
   },
   "file_extension": ".py",
   "mimetype": "text/x-python",
   "name": "python",
   "nbconvert_exporter": "python",
   "pygments_lexer": "ipython3",
   "version": "3.11.3"
  },
  "orig_nbformat": 4
 },
 "nbformat": 4,
 "nbformat_minor": 2
}
